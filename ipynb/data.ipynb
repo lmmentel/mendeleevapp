{
 "cells": [
  {
   "cell_type": "code",
   "execution_count": 1,
   "metadata": {
    "collapsed": false
   },
   "outputs": [],
   "source": [
    "from mendeleev.utils import get_neutral_data\n",
    "import pandas as pd\n",
    "import numpy as np\n",
    "pd.options.display.max_rows = 120"
   ]
  },
  {
   "cell_type": "code",
   "execution_count": 2,
   "metadata": {
    "collapsed": true
   },
   "outputs": [],
   "source": [
    "def add_plot_columns(elements):\n",
    "    '''\n",
    "    Add columns needed for the creating the plots\n",
    "\n",
    "    Args:\n",
    "        elements: pd.DataFrame\n",
    "    '''\n",
    "\n",
    "    mask = elements['group_id'].notnull()\n",
    "    \n",
    "    elements.loc[mask, 'x'] = elements.loc[mask, 'group_id'].astype(int)\n",
    "    elements.loc[:, 'y'] = elements.loc[:, 'period'].astype(int)\n",
    "\n",
    "    elements.loc[mask, 'group_name'] = elements.loc[mask, 'group_id'].astype(int).astype(str)\n",
    "    elements.loc[~mask, 'group_name'] = 'f block'\n",
    "        \n",
    "    for period in [6, 7]:\n",
    "        mask = (elements['block'] == 'f') & (elements['period'] == period)\n",
    "        elements.loc[mask, 'x'] = elements.loc[mask, 'atomic_number'] -\\\n",
    "                                        elements.loc[mask, 'atomic_number'].min() + 3\n",
    "        elements.loc[mask, 'y'] = elements.loc[mask, 'period'] + 2.5\n",
    "\n",
    "    # additional columns for positioning of the text\n",
    "\n",
    "    elements.loc[:, 'y_symbol'] = elements['y'] - 0.05\n",
    "    elements.loc[:, 'y_anumber'] = elements['y'] - 0.3\n",
    "    elements.loc[:, 'y_name'] = elements['y'] + 0.18\n",
    "\n",
    "    return elements"
   ]
  },
  {
   "cell_type": "code",
   "execution_count": 3,
   "metadata": {
    "collapsed": false
   },
   "outputs": [],
   "source": [
    "data = get_neutral_data()\n",
    "data = add_plot_columns(data)"
   ]
  },
  {
   "cell_type": "code",
   "execution_count": 4,
   "metadata": {
    "collapsed": true
   },
   "outputs": [],
   "source": [
    "data.to_json('neutral.json')\n",
    "data.to_pickle('neutral.pkl')"
   ]
  },
  {
   "cell_type": "code",
   "execution_count": 5,
   "metadata": {
    "collapsed": false
   },
   "outputs": [
    {
     "data": {
      "text/plain": [
       "Index(['abundance_crust', 'abundance_sea', 'annotation', 'atomic_number',\n",
       "       'atomic_radius', 'atomic_volume', 'atomic_weight',\n",
       "       'atomic_weight_uncertainty', 'block', 'boiling_point', 'c6', 'c6_gb',\n",
       "       'covalent_radius_bragg', 'covalent_radius_cordero',\n",
       "       'covalent_radius_pyykko', 'covalent_radius_slater', 'cpk_color',\n",
       "       'density', 'description', 'dipole_polarizability', 'electron_affinity',\n",
       "       'electronic_configuration', 'en_allen', 'en_allred-rochow',\n",
       "       'en_cottrell-sutton', 'en_ghosh', 'en_gordy', 'en_martynov-batsanov',\n",
       "       'en_mulliken', 'en_nagle', 'en_pauling', 'en_sanderson',\n",
       "       'evaporation_heat', 'fusion_heat', 'gas_basicity', 'group_id',\n",
       "       'group_name', 'hardness', 'heat_of_formation', 'id',\n",
       "       'ionization_energy', 'is_monoisotopic', 'is_radioactive', 'jmol_color',\n",
       "       'lattice_constant', 'lattice_structure', 'mass', 'melting_point',\n",
       "       'molcas_gv_color', 'name', 'name_group', 'name_series', 'period',\n",
       "       'proton_affinity', 'series_colors', 'series_id', 'softness',\n",
       "       'specific_heat', 'symbol', 'symbol_group', 'thermal_conductivity',\n",
       "       'vdw_radius', 'vdw_radius_alvarez', 'vdw_radius_batsanov',\n",
       "       'vdw_radius_bondi', 'vdw_radius_dreiding', 'vdw_radius_mm3',\n",
       "       'vdw_radius_rt', 'vdw_radius_truhlar', 'vdw_radius_uff', 'x', 'y',\n",
       "       'y_anumber', 'y_name', 'y_symbol', 'zeff_clementi', 'zeff_slater'],\n",
       "      dtype='object')"
      ]
     },
     "execution_count": 5,
     "metadata": {},
     "output_type": "execute_result"
    }
   ],
   "source": [
    "data.columns.sort_values()"
   ]
  },
  {
   "cell_type": "code",
   "execution_count": 6,
   "metadata": {
    "collapsed": false
   },
   "outputs": [
    {
     "data": {
      "text/plain": [
       "annotation                    object\n",
       "atomic_number                  int64\n",
       "atomic_radius                float64\n",
       "atomic_volume                float64\n",
       "block                         object\n",
       "boiling_point                float64\n",
       "density                      float64\n",
       "description                   object\n",
       "dipole_polarizability        float64\n",
       "electron_affinity            float64\n",
       "electronic_configuration      object\n",
       "evaporation_heat             float64\n",
       "fusion_heat                  float64\n",
       "group_id                     float64\n",
       "lattice_constant             float64\n",
       "lattice_structure             object\n",
       "melting_point                float64\n",
       "name                          object\n",
       "period                         int64\n",
       "series_id                      int64\n",
       "specific_heat                float64\n",
       "symbol                        object\n",
       "thermal_conductivity         float64\n",
       "vdw_radius                   float64\n",
       "covalent_radius_cordero      float64\n",
       "covalent_radius_pyykko       float64\n",
       "en_pauling                   float64\n",
       "en_allen                     float64\n",
       "jmol_color                    object\n",
       "cpk_color                     object\n",
       "proton_affinity              float64\n",
       "gas_basicity                 float64\n",
       "heat_of_formation            float64\n",
       "c6                           float64\n",
       "covalent_radius_bragg        float64\n",
       "covalent_radius_slater       float64\n",
       "vdw_radius_bondi             float64\n",
       "vdw_radius_truhlar           float64\n",
       "vdw_radius_rt                float64\n",
       "vdw_radius_batsanov          float64\n",
       "vdw_radius_dreiding          float64\n",
       "vdw_radius_uff               float64\n",
       "vdw_radius_mm3               float64\n",
       "abundance_crust              float64\n",
       "abundance_sea                float64\n",
       "molcas_gv_color               object\n",
       "en_ghosh                     float64\n",
       "vdw_radius_alvarez           float64\n",
       "c6_gb                        float64\n",
       "atomic_weight                float64\n",
       "atomic_weight_uncertainty    float64\n",
       "is_monoisotopic               object\n",
       "is_radioactive                  bool\n",
       "id                             int64\n",
       "name_series                   object\n",
       "series_colors                 object\n",
       "symbol_group                  object\n",
       "name_group                    object\n",
       "en_allred-rochow             float64\n",
       "en_cottrell-sutton           float64\n",
       "en_gordy                     float64\n",
       "en_martynov-batsanov         float64\n",
       "en_mulliken                  float64\n",
       "en_nagle                     float64\n",
       "en_sanderson                 float64\n",
       "hardness                     float64\n",
       "softness                     float64\n",
       "mass                          object\n",
       "zeff_slater                  float64\n",
       "zeff_clementi                float64\n",
       "ionization_energy            float64\n",
       "x                            float64\n",
       "y                            float64\n",
       "group_name                    object\n",
       "y_symbol                     float64\n",
       "y_anumber                    float64\n",
       "y_name                       float64\n",
       "dtype: object"
      ]
     },
     "execution_count": 6,
     "metadata": {},
     "output_type": "execute_result"
    }
   ],
   "source": [
    "data.dtypes"
   ]
  },
  {
   "cell_type": "code",
   "execution_count": 25,
   "metadata": {
    "collapsed": false
   },
   "outputs": [
    {
     "data": {
      "text/plain": [
       "True"
      ]
     },
     "execution_count": 25,
     "metadata": {},
     "output_type": "execute_result"
    }
   ],
   "source": [
    "data['y_name'].dtype == np.float64"
   ]
  },
  {
   "cell_type": "code",
   "execution_count": null,
   "metadata": {
    "collapsed": true
   },
   "outputs": [],
   "source": []
  }
 ],
 "metadata": {
  "anaconda-cloud": {},
  "kernelspec": {
   "display_name": "Python [conda env:mdlvapp]",
   "language": "python",
   "name": "conda-env-mdlvapp-py"
  },
  "language_info": {
   "codemirror_mode": {
    "name": "ipython",
    "version": 3
   },
   "file_extension": ".py",
   "mimetype": "text/x-python",
   "name": "python",
   "nbconvert_exporter": "python",
   "pygments_lexer": "ipython3",
   "version": "3.5.2"
  }
 },
 "nbformat": 4,
 "nbformat_minor": 1
}
